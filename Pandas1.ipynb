{
 "cells": [
  {
   "cell_type": "markdown",
   "metadata": {
    "colab_type": "text",
    "id": "view-in-github"
   },
   "source": [
    "<a href=\"https://colab.research.google.com/github/manic-milos/primena-racunara/blob/main/Pandas1.ipynb\" target=\"_parent\"><img src=\"https://colab.research.google.com/assets/colab-badge.svg\" alt=\"Open In Colab\"/></a>"
   ]
  },
  {
   "cell_type": "markdown",
   "metadata": {
    "id": "A7_t7NuqpSmW"
   },
   "source": [
    "# Pandas i obrada podataka."
   ]
  },
  {
   "cell_type": "markdown",
   "metadata": {},
   "source": [
    "1. scikit-learn paket sadrži nekoliko dostupnih skupa podataka (https://scikit-learn.org/1.5/datasets/toy_dataset.html). Skup podataka iris sadrži podatke o različitim izmerenim osobinama cvetova irisa. \n",
    "- Učitati skup podataka i ispisati prvih nekoliko redova.\n"
   ]
  },
  {
   "cell_type": "code",
   "execution_count": null,
   "metadata": {},
   "outputs": [],
   "source": []
  },
  {
   "cell_type": "markdown",
   "metadata": {
    "id": "hsFIkpDKqv88"
   },
   "source": [
    "2. Prikazati statistike kolona tabele pomoću funkcije describe()"
   ]
  },
  {
   "cell_type": "code",
   "execution_count": null,
   "metadata": {
    "id": "3_R5Q42ep0eH"
   },
   "outputs": [],
   "source": []
  },
  {
   "cell_type": "markdown",
   "metadata": {},
   "source": [
    "- Pandas ima dva glavna tipa podataka - pd.Series i pd.DataFrame. \n",
    "    - pd.Series služi za čuvanje i manipulisanje niza podataka istog tipa. \n",
    "    - pd.DataFrame služi za manipulisanje i čuvanje tabele koja sadrži kolone različitih tipova podataka. DataFrame-a se, kao bilo koja tabela, može posmatrati kao skup redova koji predstavljaju unose, ili kao skup kolona koje predstavljaju izdvojene podatke iz različitih unosa.\n",
    "- kolone se takođe mogu nazvati i promenljive, po uzoru na statističke promenljive, čiji su različiti unosi zapravo merenja.\n",
    "- redovi se nazivaju i instance, jer se može smatrati da je jedan red jedno merenje svih promenljivih koje predstavljaju kolone."
   ]
  },
  {
   "cell_type": "markdown",
   "metadata": {},
   "source": [
    "3. Izdvojiti kolonu \"sepal length\" pomoću uglastih zagrada. Izdvojiti istu kolonu pomoću metode loc."
   ]
  },
  {
   "cell_type": "code",
   "execution_count": null,
   "metadata": {},
   "outputs": [],
   "source": []
  },
  {
   "cell_type": "markdown",
   "metadata": {},
   "source": [
    "4. Možemo da sortiramo tabelu po nekoj koloni, recimo \"sepal width\", pomoću funkcije sort_values(). "
   ]
  },
  {
   "cell_type": "code",
   "execution_count": null,
   "metadata": {},
   "outputs": [],
   "source": []
  },
  {
   "cell_type": "markdown",
   "metadata": {},
   "source": [
    "5. Vizualizacija je uvek dobro sredstvo za razumevanje podataka. Metod df.plot iscrtava grafik koji obuhvata sve kolone tabele. Ova funkcija koristi matplotlib.pyplot."
   ]
  },
  {
   "cell_type": "code",
   "execution_count": null,
   "metadata": {},
   "outputs": [],
   "source": []
  }
 ],
 "metadata": {
  "colab": {
   "authorship_tag": "ABX9TyNIZmS5/B85s6OzVfayqxMu",
   "include_colab_link": true,
   "provenance": []
  },
  "kernelspec": {
   "display_name": "Python 3",
   "name": "python3"
  },
  "language_info": {
   "name": "python"
  }
 },
 "nbformat": 4,
 "nbformat_minor": 0
}

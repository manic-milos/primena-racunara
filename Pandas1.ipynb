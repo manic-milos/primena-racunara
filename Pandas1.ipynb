{
  "nbformat": 4,
  "nbformat_minor": 0,
  "metadata": {
    "colab": {
      "provenance": [],
      "authorship_tag": "ABX9TyNIZmS5/B85s6OzVfayqxMu",
      "include_colab_link": true
    },
    "kernelspec": {
      "name": "python3",
      "display_name": "Python 3"
    },
    "language_info": {
      "name": "python"
    }
  },
  "cells": [
    {
      "cell_type": "markdown",
      "metadata": {
        "id": "view-in-github",
        "colab_type": "text"
      },
      "source": [
        "<a href=\"https://colab.research.google.com/github/manic-milos/primena-racunara/blob/main/Pandas1.ipynb\" target=\"_parent\"><img src=\"https://colab.research.google.com/assets/colab-badge.svg\" alt=\"Open In Colab\"/></a>"
      ]
    },
    {
      "cell_type": "markdown",
      "source": [
        "Pandas i obrada podataka."
      ],
      "metadata": {
        "id": "A7_t7NuqpSmW"
      }
    },
    {
      "cell_type": "markdown",
      "source": [
        "1. Učitati fajl \"california_housing_train.csv\" u *pandas* tabelu."
      ],
      "metadata": {
        "id": "E8Z3TQbYpduW"
      }
    },
    {
      "cell_type": "code",
      "execution_count": null,
      "metadata": {
        "id": "-Tg_EKA7pIid"
      },
      "outputs": [],
      "source": []
    },
    {
      "cell_type": "markdown",
      "source": [
        "2."
      ],
      "metadata": {
        "id": "hsFIkpDKqv88"
      }
    },
    {
      "cell_type": "code",
      "source": [],
      "metadata": {
        "id": "3_R5Q42ep0eH"
      },
      "execution_count": null,
      "outputs": []
    }
  ]
}